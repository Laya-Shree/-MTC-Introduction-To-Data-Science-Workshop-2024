{
 "cells": [
  {
   "cell_type": "markdown",
   "metadata": {},
   "source": [
    "#### Setup"
   ]
  },
  {
   "cell_type": "code",
   "execution_count": 44,
   "metadata": {},
   "outputs": [
    {
     "name": "stdout",
     "output_type": "stream",
     "text": [
      "Requirement already satisfied: pandas in c:\\users\\layas\\anaconda3\\envs\\datasciencemtc\\lib\\site-packages (2.2.2)\n",
      "Requirement already satisfied: numpy>=1.22.4 in c:\\users\\layas\\anaconda3\\envs\\datasciencemtc\\lib\\site-packages (from pandas) (2.0.2)\n",
      "Requirement already satisfied: python-dateutil>=2.8.2 in c:\\users\\layas\\anaconda3\\envs\\datasciencemtc\\lib\\site-packages (from pandas) (2.9.0.post0)\n",
      "Requirement already satisfied: pytz>=2020.1 in c:\\users\\layas\\anaconda3\\envs\\datasciencemtc\\lib\\site-packages (from pandas) (2024.1)\n",
      "Requirement already satisfied: tzdata>=2022.7 in c:\\users\\layas\\anaconda3\\envs\\datasciencemtc\\lib\\site-packages (from pandas) (2024.1)\n",
      "Requirement already satisfied: six>=1.5 in c:\\users\\layas\\anaconda3\\envs\\datasciencemtc\\lib\\site-packages (from python-dateutil>=2.8.2->pandas) (1.16.0)\n",
      "Requirement already satisfied: seaborn in c:\\users\\layas\\anaconda3\\envs\\datasciencemtc\\lib\\site-packages (0.13.2)\n",
      "Requirement already satisfied: numpy!=1.24.0,>=1.20 in c:\\users\\layas\\anaconda3\\envs\\datasciencemtc\\lib\\site-packages (from seaborn) (2.0.2)\n",
      "Requirement already satisfied: pandas>=1.2 in c:\\users\\layas\\anaconda3\\envs\\datasciencemtc\\lib\\site-packages (from seaborn) (2.2.2)\n",
      "Requirement already satisfied: matplotlib!=3.6.1,>=3.4 in c:\\users\\layas\\anaconda3\\envs\\datasciencemtc\\lib\\site-packages (from seaborn) (3.9.2)\n",
      "Requirement already satisfied: contourpy>=1.0.1 in c:\\users\\layas\\anaconda3\\envs\\datasciencemtc\\lib\\site-packages (from matplotlib!=3.6.1,>=3.4->seaborn) (1.3.0)\n",
      "Requirement already satisfied: cycler>=0.10 in c:\\users\\layas\\anaconda3\\envs\\datasciencemtc\\lib\\site-packages (from matplotlib!=3.6.1,>=3.4->seaborn) (0.12.1)\n",
      "Requirement already satisfied: fonttools>=4.22.0 in c:\\users\\layas\\anaconda3\\envs\\datasciencemtc\\lib\\site-packages (from matplotlib!=3.6.1,>=3.4->seaborn) (4.53.1)\n",
      "Requirement already satisfied: kiwisolver>=1.3.1 in c:\\users\\layas\\anaconda3\\envs\\datasciencemtc\\lib\\site-packages (from matplotlib!=3.6.1,>=3.4->seaborn) (1.4.7)\n",
      "Requirement already satisfied: packaging>=20.0 in c:\\users\\layas\\anaconda3\\envs\\datasciencemtc\\lib\\site-packages (from matplotlib!=3.6.1,>=3.4->seaborn) (24.1)\n",
      "Requirement already satisfied: pillow>=8 in c:\\users\\layas\\anaconda3\\envs\\datasciencemtc\\lib\\site-packages (from matplotlib!=3.6.1,>=3.4->seaborn) (10.4.0)\n",
      "Requirement already satisfied: pyparsing>=2.3.1 in c:\\users\\layas\\anaconda3\\envs\\datasciencemtc\\lib\\site-packages (from matplotlib!=3.6.1,>=3.4->seaborn) (3.1.4)\n",
      "Requirement already satisfied: python-dateutil>=2.7 in c:\\users\\layas\\anaconda3\\envs\\datasciencemtc\\lib\\site-packages (from matplotlib!=3.6.1,>=3.4->seaborn) (2.9.0.post0)\n",
      "Requirement already satisfied: importlib-resources>=3.2.0 in c:\\users\\layas\\anaconda3\\envs\\datasciencemtc\\lib\\site-packages (from matplotlib!=3.6.1,>=3.4->seaborn) (6.4.4)\n",
      "Requirement already satisfied: pytz>=2020.1 in c:\\users\\layas\\anaconda3\\envs\\datasciencemtc\\lib\\site-packages (from pandas>=1.2->seaborn) (2024.1)\n",
      "Requirement already satisfied: tzdata>=2022.7 in c:\\users\\layas\\anaconda3\\envs\\datasciencemtc\\lib\\site-packages (from pandas>=1.2->seaborn) (2024.1)\n",
      "Requirement already satisfied: zipp>=3.1.0 in c:\\users\\layas\\anaconda3\\envs\\datasciencemtc\\lib\\site-packages (from importlib-resources>=3.2.0->matplotlib!=3.6.1,>=3.4->seaborn) (3.17.0)\n",
      "Requirement already satisfied: six>=1.5 in c:\\users\\layas\\anaconda3\\envs\\datasciencemtc\\lib\\site-packages (from python-dateutil>=2.7->matplotlib!=3.6.1,>=3.4->seaborn) (1.16.0)\n",
      "Requirement already satisfied: scikit-learn in c:\\users\\layas\\anaconda3\\envs\\datasciencemtc\\lib\\site-packages (1.5.1)\n",
      "Requirement already satisfied: numpy>=1.19.5 in c:\\users\\layas\\anaconda3\\envs\\datasciencemtc\\lib\\site-packages (from scikit-learn) (2.0.2)\n",
      "Requirement already satisfied: scipy>=1.6.0 in c:\\users\\layas\\anaconda3\\envs\\datasciencemtc\\lib\\site-packages (from scikit-learn) (1.13.1)\n",
      "Requirement already satisfied: joblib>=1.2.0 in c:\\users\\layas\\anaconda3\\envs\\datasciencemtc\\lib\\site-packages (from scikit-learn) (1.4.2)\n",
      "Requirement already satisfied: threadpoolctl>=3.1.0 in c:\\users\\layas\\anaconda3\\envs\\datasciencemtc\\lib\\site-packages (from scikit-learn) (3.5.0)\n"
     ]
    }
   ],
   "source": [
    "# Installing Libraries\n",
    "!pip install pandas\n",
    "!pip install seaborn\n",
    "!pip install scikit-learn"
   ]
  },
  {
   "cell_type": "code",
   "execution_count": 45,
   "metadata": {},
   "outputs": [],
   "source": [
    "# Importing Libraries\n",
    "import pandas as pd\n",
    "import numpy as np\n",
    "import seaborn as sns\n",
    "import matplotlib.pyplot as plt"
   ]
  },
  {
   "cell_type": "code",
   "execution_count": 46,
   "metadata": {},
   "outputs": [],
   "source": [
    "# Loading Dataset\n",
    "df = pd.read_csv(\"Dataset.csv\")"
   ]
  },
  {
   "cell_type": "code",
   "execution_count": 47,
   "metadata": {},
   "outputs": [],
   "source": [
    "#Display all columns and rows\n",
    "pd.set_option(\"display.max_columns\",None)\n",
    "pd.set_option('display.max_rows',None)"
   ]
  },
  {
   "cell_type": "code",
   "execution_count": 48,
   "metadata": {},
   "outputs": [],
   "source": [
    "cols_to_modify = ['DistanceFromHome', 'Department']\n",
    "# Apply random NaN insertion only to the selected columns\n",
    "df[cols_to_modify] = df[cols_to_modify].mask(np.random.random(df[cols_to_modify].shape) < 0.1)"
   ]
  },
  {
   "cell_type": "markdown",
   "metadata": {},
   "source": [
    "#### Exploratory Data Analysis (EDA)"
   ]
  },
  {
   "cell_type": "code",
   "execution_count": null,
   "metadata": {},
   "outputs": [],
   "source": [
    "# View first 5 rows\n",
    "df.head(5)"
   ]
  },
  {
   "cell_type": "code",
   "execution_count": null,
   "metadata": {},
   "outputs": [],
   "source": [
    "df.info()"
   ]
  },
  {
   "cell_type": "code",
   "execution_count": null,
   "metadata": {},
   "outputs": [],
   "source": [
    "df.describe()"
   ]
  },
  {
   "cell_type": "code",
   "execution_count": null,
   "metadata": {},
   "outputs": [],
   "source": [
    "df.columns"
   ]
  },
  {
   "cell_type": "code",
   "execution_count": 49,
   "metadata": {},
   "outputs": [
    {
     "data": {
      "text/plain": [
       "(1470, 35)"
      ]
     },
     "execution_count": 49,
     "metadata": {},
     "output_type": "execute_result"
    }
   ],
   "source": [
    "df.shape"
   ]
  },
  {
   "cell_type": "code",
   "execution_count": 13,
   "metadata": {},
   "outputs": [
    {
     "name": "stdout",
     "output_type": "stream",
     "text": [
      "EmployeeCount: 1 \n",
      "Over18: 1 \n",
      "StandardHours: 1 \n"
     ]
    }
   ],
   "source": [
    "import pandas as pd\n",
    "\n",
    "# Assuming df is your DataFrame\n",
    "unique_counts = df.nunique()\n",
    "\n",
    "# Print the column names along with their unique value counts\n",
    "for col, unique_count in unique_counts.items():\n",
    "    if unique_count<2:\n",
    "        print(f\"{col}: {unique_count} \")\n",
    "\n",
    "\n"
   ]
  },
  {
   "cell_type": "code",
   "execution_count": 58,
   "metadata": {},
   "outputs": [
    {
     "data": {
      "text/plain": [
       "Text(0.5, 1.0, 'Attrition values')"
      ]
     },
     "execution_count": 58,
     "metadata": {},
     "output_type": "execute_result"
    },
    {
     "data": {
      "image/png": "[encoded data removed]",
      "text/plain": [
       "<Figure size 640x480 with 1 Axes>"
      ]
     },
     "metadata": {},
     "output_type": "display_data"
    }
   ],
   "source": [
    "sns.countplot(x=df['Attrition'])\n",
    "plt.title('Attrition values')\n"
   ]
  },
  {
   "cell_type": "code",
   "execution_count": 55,
   "metadata": {},
   "outputs": [
    {
     "name": "stderr",
     "output_type": "stream",
     "text": [
      "C:\\Users\\layas\\AppData\\Local\\Temp\\ipykernel_27440\\474961821.py:3: FutureWarning: \n",
      "\n",
      "Passing `palette` without assigning `hue` is deprecated and will be removed in v0.14.0. Assign the `x` variable to `hue` and set `legend=False` for the same effect.\n",
      "\n",
      "  sns.barplot(x='Attrition', y='MonthlyIncome', data=average_income_by_attrition, palette={'Yes': 'red', 'No': 'green'})\n"
     ]
    },
    {
     "data": {
      "image/png": "[encoded data removed]",
      "text/plain": [
       "<Figure size 300x300 with 1 Axes>"
      ]
     },
     "metadata": {},
     "output_type": "display_data"
    }
   ],
   "source": [
    "average_income_by_attrition = df.groupby('Attrition')['MonthlyIncome'].mean().reset_index()\n",
    "plt.figure(figsize=(3, 3))\n",
    "sns.barplot(x='Attrition', y='MonthlyIncome', data=average_income_by_attrition, palette={'Yes': 'red', 'No': 'green'})\n",
    "plt.title('Average Monthly Income by Attrition Status')\n",
    "plt.xlabel('Attrition Status (0=No, 1=Yes)')\n",
    "plt.ylabel('Average Monthly Income')\n",
    "plt.show()"
   ]
  },
  {
   "cell_type": "markdown",
   "metadata": {},
   "source": [
    "#### Feature Selection"
   ]
  },
  {
   "cell_type": "code",
   "execution_count": 9,
   "metadata": {},
   "outputs": [],
   "source": [
    "df=df.drop(columns=['EmployeeNumber',\n",
    "                    'EmployeeCount',\n",
    "                    'Over18',\n",
    "                    'StandardHours'])"
   ]
  },
  {
   "cell_type": "code",
   "execution_count": 20,
   "metadata": {},
   "outputs": [],
   "source": [
    "# Drop columns\n",
    "df = df.drop(columns=['HourlyRate',\n",
    "                      'JobInvolvement',\n",
    "                      'JobLevel',\n",
    "                      'MonthlyIncome',\n",
    "                      'PercentSalaryHike',\n",
    "                      'TotalWorkingYears',\n",
    "                      'WorkLifeBalance',\n",
    "                      'YearsAtCompany'])"
   ]
  },
  {
   "cell_type": "markdown",
   "metadata": {},
   "source": [
    "#### Missing Values"
   ]
  },
  {
   "cell_type": "code",
   "execution_count": 24,
   "metadata": {},
   "outputs": [
    {
     "name": "stdout",
     "output_type": "stream",
     "text": [
      "Department          154\n",
      "DistanceFromHome    148\n",
      "dtype: int64\n"
     ]
    }
   ],
   "source": [
    "# Check for missing values in each column\n",
    "missing_values = df.isnull().sum()\n",
    "\n",
    "# Display columns with missing values\n",
    "print(missing_values[missing_values > 0])\n"
   ]
  },
  {
   "cell_type": "code",
   "execution_count": 25,
   "metadata": {},
   "outputs": [],
   "source": [
    "# Fill NaN with mode of the column\n",
    "df['Department'] = df['Department'].fillna(df['Department'].mode()[0])"
   ]
  },
  {
   "cell_type": "code",
   "execution_count": 26,
   "metadata": {},
   "outputs": [],
   "source": [
    "# Fill NaN with mean of the column\n",
    "df['DistanceFromHome'] = df['DistanceFromHome'].fillna(df['DistanceFromHome'].mean())"
   ]
  },
  {
   "cell_type": "code",
   "execution_count": 23,
   "metadata": {},
   "outputs": [
    {
     "data": {
      "text/plain": [
       "['EmployeeCount', 'StandardHours', 'PerformanceRating']"
      ]
     },
     "execution_count": 23,
     "metadata": {},
     "output_type": "execute_result"
    }
   ],
   "source": [
    "[\"EmployeeCount\",\"StandardHours\",\"PerformanceRating\"]"
   ]
  },
  {
   "cell_type": "markdown",
   "metadata": {},
   "source": [
    "#### Feature Encoding"
   ]
  },
  {
   "cell_type": "code",
   "execution_count": 27,
   "metadata": {},
   "outputs": [],
   "source": [
    "# Select all categorical columns\n",
    "categorical_columns = df.select_dtypes(include=['object', 'category'])"
   ]
  },
  {
   "cell_type": "code",
   "execution_count": 28,
   "metadata": {},
   "outputs": [
    {
     "name": "stdout",
     "output_type": "stream",
     "text": [
      "Attrition ['Yes' 'No']\n",
      "BusinessTravel ['Travel_Rarely' 'Travel_Frequently' 'Non-Travel']\n",
      "Department ['Sales' 'Research & Development' 'Human Resources']\n",
      "EducationField ['Life Sciences' 'Other' 'Medical' 'Marketing' 'Technical Degree'\n",
      " 'Human Resources']\n",
      "Gender ['Female' 'Male']\n",
      "JobRole ['Sales Executive' 'Research Scientist' 'Laboratory Technician'\n",
      " 'Manufacturing Director' 'Healthcare Representative' 'Manager'\n",
      " 'Sales Representative' 'Research Director' 'Human Resources']\n",
      "MaritalStatus ['Single' 'Married' 'Divorced']\n",
      "OverTime ['Yes' 'No']\n"
     ]
    }
   ],
   "source": [
    "for i in categorical_columns:\n",
    "    print(i,df[i].unique())"
   ]
  },
  {
   "cell_type": "code",
   "execution_count": 29,
   "metadata": {},
   "outputs": [],
   "source": [
    "df_encoded = pd.get_dummies(df, columns=['Attrition','Gender','OverTime','MaritalStatus','JobRole','EducationField','Department'], drop_first=True)"
   ]
  },
  {
   "cell_type": "code",
   "execution_count": 30,
   "metadata": {},
   "outputs": [],
   "source": [
    "BusinessTravel_map = {'Non-Travel': 0, 'Travel_Rarely': 1, 'Travel_Frequently': 2}\n",
    "df_encoded['BusinessTravel'] = df_encoded['BusinessTravel'].map(BusinessTravel_map)"
   ]
  },
  {
   "cell_type": "code",
   "execution_count": 31,
   "metadata": {},
   "outputs": [
    {
     "data": {
      "text/plain": [
       "(1470, 0)"
      ]
     },
     "execution_count": 31,
     "metadata": {},
     "output_type": "execute_result"
    }
   ],
   "source": [
    "# Select all categorical columns\n",
    "categorical_columns = df_encoded.select_dtypes(include=['object', 'category'])\n",
    "categorical_columns.shape"
   ]
  },
  {
   "cell_type": "code",
   "execution_count": 33,
   "metadata": {},
   "outputs": [
    {
     "data": {
      "text/plain": [
       "Index(['Age', 'BusinessTravel', 'DailyRate', 'DistanceFromHome', 'Education',\n",
       "       'EnvironmentSatisfaction', 'JobSatisfaction', 'MonthlyRate',\n",
       "       'NumCompaniesWorked', 'PerformanceRating', 'RelationshipSatisfaction',\n",
       "       'StockOptionLevel', 'TrainingTimesLastYear', 'YearsInCurrentRole',\n",
       "       'YearsSinceLastPromotion', 'YearsWithCurrManager', 'Attrition_Yes',\n",
       "       'Gender_Male', 'OverTime_Yes', 'MaritalStatus_Married',\n",
       "       'MaritalStatus_Single', 'JobRole_Human Resources',\n",
       "       'JobRole_Laboratory Technician', 'JobRole_Manager',\n",
       "       'JobRole_Manufacturing Director', 'JobRole_Research Director',\n",
       "       'JobRole_Research Scientist', 'JobRole_Sales Executive',\n",
       "       'JobRole_Sales Representative', 'EducationField_Life Sciences',\n",
       "       'EducationField_Marketing', 'EducationField_Medical',\n",
       "       'EducationField_Other', 'EducationField_Technical Degree',\n",
       "       'Department_Research & Development', 'Department_Sales'],\n",
       "      dtype='object')"
      ]
     },
     "execution_count": 33,
     "metadata": {},
     "output_type": "execute_result"
    }
   ],
   "source": [
    "df_encoded.columns"
   ]
  },
  {
   "cell_type": "markdown",
   "metadata": {},
   "source": [
    "#### Normalization"
   ]
  },
  {
   "cell_type": "code",
   "execution_count": 34,
   "metadata": {},
   "outputs": [],
   "source": [
    "from sklearn.preprocessing import StandardScaler\n",
    "scaler = StandardScaler()\n",
    "x_scaled = scaler.fit_transform(df_encoded.drop(['Attrition_Yes'], axis=1))"
   ]
  },
  {
   "cell_type": "code",
   "execution_count": 35,
   "metadata": {},
   "outputs": [
    {
     "data": {
      "text/html": [
       "<div>\n",
       "<style scoped>\n",
       "    .dataframe tbody tr th:only-of-type {\n",
       "        vertical-align: middle;\n",
       "    }\n",
       "\n",
       "    .dataframe tbody tr th {\n",
       "        vertical-align: top;\n",
       "    }\n",
       "\n",
       "    .dataframe thead th {\n",
       "        text-align: right;\n",
       "    }\n",
       "</style>\n",
       "<table border=\"1\" class=\"dataframe\">\n",
       "  <thead>\n",
       "    <tr style=\"text-align: right;\">\n",
       "      <th></th>\n",
       "      <th>Age</th>\n",
       "      <th>BusinessTravel</th>\n",
       "      <th>DailyRate</th>\n",
       "      <th>DistanceFromHome</th>\n",
       "      <th>Education</th>\n",
       "      <th>EnvironmentSatisfaction</th>\n",
       "      <th>JobSatisfaction</th>\n",
       "      <th>MonthlyRate</th>\n",
       "      <th>NumCompaniesWorked</th>\n",
       "      <th>PerformanceRating</th>\n",
       "      <th>RelationshipSatisfaction</th>\n",
       "      <th>StockOptionLevel</th>\n",
       "      <th>TrainingTimesLastYear</th>\n",
       "      <th>YearsInCurrentRole</th>\n",
       "      <th>YearsSinceLastPromotion</th>\n",
       "      <th>YearsWithCurrManager</th>\n",
       "      <th>Gender_Male</th>\n",
       "      <th>OverTime_Yes</th>\n",
       "      <th>MaritalStatus_Married</th>\n",
       "      <th>MaritalStatus_Single</th>\n",
       "      <th>JobRole_Human Resources</th>\n",
       "      <th>JobRole_Laboratory Technician</th>\n",
       "      <th>JobRole_Manager</th>\n",
       "      <th>JobRole_Manufacturing Director</th>\n",
       "      <th>JobRole_Research Director</th>\n",
       "      <th>JobRole_Research Scientist</th>\n",
       "      <th>JobRole_Sales Executive</th>\n",
       "      <th>JobRole_Sales Representative</th>\n",
       "      <th>EducationField_Life Sciences</th>\n",
       "      <th>EducationField_Marketing</th>\n",
       "      <th>EducationField_Medical</th>\n",
       "      <th>EducationField_Other</th>\n",
       "      <th>EducationField_Technical Degree</th>\n",
       "      <th>Department_Research &amp; Development</th>\n",
       "      <th>Department_Sales</th>\n",
       "    </tr>\n",
       "  </thead>\n",
       "  <tbody>\n",
       "    <tr>\n",
       "      <th>count</th>\n",
       "      <td>1.470000e+03</td>\n",
       "      <td>1.470000e+03</td>\n",
       "      <td>1.470000e+03</td>\n",
       "      <td>1.470000e+03</td>\n",
       "      <td>1.470000e+03</td>\n",
       "      <td>1.470000e+03</td>\n",
       "      <td>1.470000e+03</td>\n",
       "      <td>1.470000e+03</td>\n",
       "      <td>1.470000e+03</td>\n",
       "      <td>1.470000e+03</td>\n",
       "      <td>1.470000e+03</td>\n",
       "      <td>1.470000e+03</td>\n",
       "      <td>1.470000e+03</td>\n",
       "      <td>1.470000e+03</td>\n",
       "      <td>1.470000e+03</td>\n",
       "      <td>1.470000e+03</td>\n",
       "      <td>1.470000e+03</td>\n",
       "      <td>1.470000e+03</td>\n",
       "      <td>1.470000e+03</td>\n",
       "      <td>1.470000e+03</td>\n",
       "      <td>1.470000e+03</td>\n",
       "      <td>1.470000e+03</td>\n",
       "      <td>1.470000e+03</td>\n",
       "      <td>1.470000e+03</td>\n",
       "      <td>1.470000e+03</td>\n",
       "      <td>1.470000e+03</td>\n",
       "      <td>1.470000e+03</td>\n",
       "      <td>1.470000e+03</td>\n",
       "      <td>1.470000e+03</td>\n",
       "      <td>1.470000e+03</td>\n",
       "      <td>1.470000e+03</td>\n",
       "      <td>1.470000e+03</td>\n",
       "      <td>1.470000e+03</td>\n",
       "      <td>1.470000e+03</td>\n",
       "      <td>1.470000e+03</td>\n",
       "    </tr>\n",
       "    <tr>\n",
       "      <th>mean</th>\n",
       "      <td>-3.504377e-17</td>\n",
       "      <td>-1.643432e-16</td>\n",
       "      <td>5.075305e-17</td>\n",
       "      <td>-1.498423e-16</td>\n",
       "      <td>7.008755e-17</td>\n",
       "      <td>1.305078e-16</td>\n",
       "      <td>-9.183886e-17</td>\n",
       "      <td>3.021015e-17</td>\n",
       "      <td>1.450087e-17</td>\n",
       "      <td>-6.114534e-16</td>\n",
       "      <td>9.667248e-17</td>\n",
       "      <td>6.767074e-17</td>\n",
       "      <td>8.700523e-17</td>\n",
       "      <td>9.063045e-17</td>\n",
       "      <td>1.208406e-18</td>\n",
       "      <td>-2.779334e-17</td>\n",
       "      <td>4.350262e-17</td>\n",
       "      <td>-4.350262e-17</td>\n",
       "      <td>1.208406e-16</td>\n",
       "      <td>-4.471102e-17</td>\n",
       "      <td>-2.416812e-17</td>\n",
       "      <td>-8.338001e-17</td>\n",
       "      <td>4.350262e-17</td>\n",
       "      <td>-4.350262e-17</td>\n",
       "      <td>5.256566e-17</td>\n",
       "      <td>-4.471102e-17</td>\n",
       "      <td>1.208406e-18</td>\n",
       "      <td>1.450087e-17</td>\n",
       "      <td>-2.175131e-17</td>\n",
       "      <td>-4.229421e-17</td>\n",
       "      <td>5.921189e-17</td>\n",
       "      <td>3.746059e-17</td>\n",
       "      <td>1.329247e-17</td>\n",
       "      <td>-1.691768e-16</td>\n",
       "      <td>-5.437827e-18</td>\n",
       "    </tr>\n",
       "    <tr>\n",
       "      <th>std</th>\n",
       "      <td>1.000340e+00</td>\n",
       "      <td>1.000340e+00</td>\n",
       "      <td>1.000340e+00</td>\n",
       "      <td>1.000340e+00</td>\n",
       "      <td>1.000340e+00</td>\n",
       "      <td>1.000340e+00</td>\n",
       "      <td>1.000340e+00</td>\n",
       "      <td>1.000340e+00</td>\n",
       "      <td>1.000340e+00</td>\n",
       "      <td>1.000340e+00</td>\n",
       "      <td>1.000340e+00</td>\n",
       "      <td>1.000340e+00</td>\n",
       "      <td>1.000340e+00</td>\n",
       "      <td>1.000340e+00</td>\n",
       "      <td>1.000340e+00</td>\n",
       "      <td>1.000340e+00</td>\n",
       "      <td>1.000340e+00</td>\n",
       "      <td>1.000340e+00</td>\n",
       "      <td>1.000340e+00</td>\n",
       "      <td>1.000340e+00</td>\n",
       "      <td>1.000340e+00</td>\n",
       "      <td>1.000340e+00</td>\n",
       "      <td>1.000340e+00</td>\n",
       "      <td>1.000340e+00</td>\n",
       "      <td>1.000340e+00</td>\n",
       "      <td>1.000340e+00</td>\n",
       "      <td>1.000340e+00</td>\n",
       "      <td>1.000340e+00</td>\n",
       "      <td>1.000340e+00</td>\n",
       "      <td>1.000340e+00</td>\n",
       "      <td>1.000340e+00</td>\n",
       "      <td>1.000340e+00</td>\n",
       "      <td>1.000340e+00</td>\n",
       "      <td>1.000340e+00</td>\n",
       "      <td>1.000340e+00</td>\n",
       "    </tr>\n",
       "    <tr>\n",
       "      <th>min</th>\n",
       "      <td>-2.072192e+00</td>\n",
       "      <td>-2.042138e+00</td>\n",
       "      <td>-1.736576e+00</td>\n",
       "      <td>-1.071028e+00</td>\n",
       "      <td>-1.868426e+00</td>\n",
       "      <td>-1.575686e+00</td>\n",
       "      <td>-1.567907e+00</td>\n",
       "      <td>-1.717284e+00</td>\n",
       "      <td>-1.078504e+00</td>\n",
       "      <td>-4.262300e-01</td>\n",
       "      <td>-1.584178e+00</td>\n",
       "      <td>-9.320144e-01</td>\n",
       "      <td>-2.171982e+00</td>\n",
       "      <td>-1.167687e+00</td>\n",
       "      <td>-6.791457e-01</td>\n",
       "      <td>-1.155935e+00</td>\n",
       "      <td>-1.224745e+00</td>\n",
       "      <td>-6.282411e-01</td>\n",
       "      <td>-9.189214e-01</td>\n",
       "      <td>-6.855655e-01</td>\n",
       "      <td>-1.914977e-01</td>\n",
       "      <td>-4.624639e-01</td>\n",
       "      <td>-2.730593e-01</td>\n",
       "      <td>-3.308080e-01</td>\n",
       "      <td>-2.399041e-01</td>\n",
       "      <td>-4.978732e-01</td>\n",
       "      <td>-5.338212e-01</td>\n",
       "      <td>-2.446250e-01</td>\n",
       "      <td>-8.374896e-01</td>\n",
       "      <td>-3.482549e-01</td>\n",
       "      <td>-6.791411e-01</td>\n",
       "      <td>-2.430593e-01</td>\n",
       "      <td>-3.140935e-01</td>\n",
       "      <td>-1.491202e+00</td>\n",
       "      <td>-6.124679e-01</td>\n",
       "    </tr>\n",
       "    <tr>\n",
       "      <th>25%</th>\n",
       "      <td>-7.581700e-01</td>\n",
       "      <td>-1.623992e-01</td>\n",
       "      <td>-8.366616e-01</td>\n",
       "      <td>-9.401446e-01</td>\n",
       "      <td>-8.916883e-01</td>\n",
       "      <td>-6.605307e-01</td>\n",
       "      <td>-6.608532e-01</td>\n",
       "      <td>-8.806440e-01</td>\n",
       "      <td>-6.780494e-01</td>\n",
       "      <td>-4.262300e-01</td>\n",
       "      <td>-6.589728e-01</td>\n",
       "      <td>-9.320144e-01</td>\n",
       "      <td>-6.201892e-01</td>\n",
       "      <td>-6.154916e-01</td>\n",
       "      <td>-6.791457e-01</td>\n",
       "      <td>-5.952272e-01</td>\n",
       "      <td>-1.224745e+00</td>\n",
       "      <td>-6.282411e-01</td>\n",
       "      <td>-9.189214e-01</td>\n",
       "      <td>-6.855655e-01</td>\n",
       "      <td>-1.914977e-01</td>\n",
       "      <td>-4.624639e-01</td>\n",
       "      <td>-2.730593e-01</td>\n",
       "      <td>-3.308080e-01</td>\n",
       "      <td>-2.399041e-01</td>\n",
       "      <td>-4.978732e-01</td>\n",
       "      <td>-5.338212e-01</td>\n",
       "      <td>-2.446250e-01</td>\n",
       "      <td>-8.374896e-01</td>\n",
       "      <td>-3.482549e-01</td>\n",
       "      <td>-6.791411e-01</td>\n",
       "      <td>-2.430593e-01</td>\n",
       "      <td>-3.140935e-01</td>\n",
       "      <td>-1.491202e+00</td>\n",
       "      <td>-6.124679e-01</td>\n",
       "    </tr>\n",
       "    <tr>\n",
       "      <th>50%</th>\n",
       "      <td>-1.011589e-01</td>\n",
       "      <td>-1.623992e-01</td>\n",
       "      <td>-1.204135e-03</td>\n",
       "      <td>-1.548427e-01</td>\n",
       "      <td>8.504925e-02</td>\n",
       "      <td>2.546249e-01</td>\n",
       "      <td>2.462002e-01</td>\n",
       "      <td>-1.090645e-02</td>\n",
       "      <td>-2.775943e-01</td>\n",
       "      <td>-4.262300e-01</td>\n",
       "      <td>2.662326e-01</td>\n",
       "      <td>2.419883e-01</td>\n",
       "      <td>1.557071e-01</td>\n",
       "      <td>-3.393937e-01</td>\n",
       "      <td>-3.687153e-01</td>\n",
       "      <td>-3.148735e-01</td>\n",
       "      <td>8.164966e-01</td>\n",
       "      <td>-6.282411e-01</td>\n",
       "      <td>-9.189214e-01</td>\n",
       "      <td>-6.855655e-01</td>\n",
       "      <td>-1.914977e-01</td>\n",
       "      <td>-4.624639e-01</td>\n",
       "      <td>-2.730593e-01</td>\n",
       "      <td>-3.308080e-01</td>\n",
       "      <td>-2.399041e-01</td>\n",
       "      <td>-4.978732e-01</td>\n",
       "      <td>-5.338212e-01</td>\n",
       "      <td>-2.446250e-01</td>\n",
       "      <td>-8.374896e-01</td>\n",
       "      <td>-3.482549e-01</td>\n",
       "      <td>-6.791411e-01</td>\n",
       "      <td>-2.430593e-01</td>\n",
       "      <td>-3.140935e-01</td>\n",
       "      <td>6.705998e-01</td>\n",
       "      <td>-6.124679e-01</td>\n",
       "    </tr>\n",
       "    <tr>\n",
       "      <th>75%</th>\n",
       "      <td>6.653541e-01</td>\n",
       "      <td>-1.623992e-01</td>\n",
       "      <td>8.788772e-01</td>\n",
       "      <td>3.686919e-01</td>\n",
       "      <td>1.061787e+00</td>\n",
       "      <td>1.169781e+00</td>\n",
       "      <td>1.153254e+00</td>\n",
       "      <td>8.641014e-01</td>\n",
       "      <td>5.233157e-01</td>\n",
       "      <td>-4.262300e-01</td>\n",
       "      <td>1.191438e+00</td>\n",
       "      <td>2.419883e-01</td>\n",
       "      <td>1.557071e-01</td>\n",
       "      <td>7.649976e-01</td>\n",
       "      <td>2.521455e-01</td>\n",
       "      <td>8.065415e-01</td>\n",
       "      <td>8.164966e-01</td>\n",
       "      <td>1.591746e+00</td>\n",
       "      <td>1.088232e+00</td>\n",
       "      <td>1.458650e+00</td>\n",
       "      <td>-1.914977e-01</td>\n",
       "      <td>-4.624639e-01</td>\n",
       "      <td>-2.730593e-01</td>\n",
       "      <td>-3.308080e-01</td>\n",
       "      <td>-2.399041e-01</td>\n",
       "      <td>-4.978732e-01</td>\n",
       "      <td>-5.338212e-01</td>\n",
       "      <td>-2.446250e-01</td>\n",
       "      <td>1.194045e+00</td>\n",
       "      <td>-3.482549e-01</td>\n",
       "      <td>1.472448e+00</td>\n",
       "      <td>-2.430593e-01</td>\n",
       "      <td>-3.140935e-01</td>\n",
       "      <td>6.705998e-01</td>\n",
       "      <td>1.632739e+00</td>\n",
       "    </tr>\n",
       "    <tr>\n",
       "      <th>max</th>\n",
       "      <td>2.526886e+00</td>\n",
       "      <td>1.717339e+00</td>\n",
       "      <td>1.726730e+00</td>\n",
       "      <td>2.593714e+00</td>\n",
       "      <td>2.038524e+00</td>\n",
       "      <td>1.169781e+00</td>\n",
       "      <td>1.153254e+00</td>\n",
       "      <td>1.782888e+00</td>\n",
       "      <td>2.525591e+00</td>\n",
       "      <td>2.346151e+00</td>\n",
       "      <td>1.191438e+00</td>\n",
       "      <td>2.589994e+00</td>\n",
       "      <td>2.483396e+00</td>\n",
       "      <td>3.802074e+00</td>\n",
       "      <td>3.977310e+00</td>\n",
       "      <td>3.610079e+00</td>\n",
       "      <td>8.164966e-01</td>\n",
       "      <td>1.591746e+00</td>\n",
       "      <td>1.088232e+00</td>\n",
       "      <td>1.458650e+00</td>\n",
       "      <td>5.221995e+00</td>\n",
       "      <td>2.162331e+00</td>\n",
       "      <td>3.662208e+00</td>\n",
       "      <td>3.022901e+00</td>\n",
       "      <td>4.168333e+00</td>\n",
       "      <td>2.008543e+00</td>\n",
       "      <td>1.873287e+00</td>\n",
       "      <td>4.087890e+00</td>\n",
       "      <td>1.194045e+00</td>\n",
       "      <td>2.871460e+00</td>\n",
       "      <td>1.472448e+00</td>\n",
       "      <td>4.114223e+00</td>\n",
       "      <td>3.183766e+00</td>\n",
       "      <td>6.705998e-01</td>\n",
       "      <td>1.632739e+00</td>\n",
       "    </tr>\n",
       "  </tbody>\n",
       "</table>\n",
       "</div>"
      ],
      "text/plain": [
       "                Age  BusinessTravel     DailyRate  DistanceFromHome  \\\n",
       "count  1.470000e+03    1.470000e+03  1.470000e+03      1.470000e+03   \n",
       "mean  -3.504377e-17   -1.643432e-16  5.075305e-17     -1.498423e-16   \n",
       "std    1.000340e+00    1.000340e+00  1.000340e+00      1.000340e+00   \n",
       "min   -2.072192e+00   -2.042138e+00 -1.736576e+00     -1.071028e+00   \n",
       "25%   -7.581700e-01   -1.623992e-01 -8.366616e-01     -9.401446e-01   \n",
       "50%   -1.011589e-01   -1.623992e-01 -1.204135e-03     -1.548427e-01   \n",
       "75%    6.653541e-01   -1.623992e-01  8.788772e-01      3.686919e-01   \n",
       "max    2.526886e+00    1.717339e+00  1.726730e+00      2.593714e+00   \n",
       "\n",
       "          Education  EnvironmentSatisfaction  JobSatisfaction   MonthlyRate  \\\n",
       "count  1.470000e+03             1.470000e+03     1.470000e+03  1.470000e+03   \n",
       "mean   7.008755e-17             1.305078e-16    -9.183886e-17  3.021015e-17   \n",
       "std    1.000340e+00             1.000340e+00     1.000340e+00  1.000340e+00   \n",
       "min   -1.868426e+00            -1.575686e+00    -1.567907e+00 -1.717284e+00   \n",
       "25%   -8.916883e-01            -6.605307e-01    -6.608532e-01 -8.806440e-01   \n",
       "50%    8.504925e-02             2.546249e-01     2.462002e-01 -1.090645e-02   \n",
       "75%    1.061787e+00             1.169781e+00     1.153254e+00  8.641014e-01   \n",
       "max    2.038524e+00             1.169781e+00     1.153254e+00  1.782888e+00   \n",
       "\n",
       "       NumCompaniesWorked  PerformanceRating  RelationshipSatisfaction  \\\n",
       "count        1.470000e+03       1.470000e+03              1.470000e+03   \n",
       "mean         1.450087e-17      -6.114534e-16              9.667248e-17   \n",
       "std          1.000340e+00       1.000340e+00              1.000340e+00   \n",
       "min         -1.078504e+00      -4.262300e-01             -1.584178e+00   \n",
       "25%         -6.780494e-01      -4.262300e-01             -6.589728e-01   \n",
       "50%         -2.775943e-01      -4.262300e-01              2.662326e-01   \n",
       "75%          5.233157e-01      -4.262300e-01              1.191438e+00   \n",
       "max          2.525591e+00       2.346151e+00              1.191438e+00   \n",
       "\n",
       "       StockOptionLevel  TrainingTimesLastYear  YearsInCurrentRole  \\\n",
       "count      1.470000e+03           1.470000e+03        1.470000e+03   \n",
       "mean       6.767074e-17           8.700523e-17        9.063045e-17   \n",
       "std        1.000340e+00           1.000340e+00        1.000340e+00   \n",
       "min       -9.320144e-01          -2.171982e+00       -1.167687e+00   \n",
       "25%       -9.320144e-01          -6.201892e-01       -6.154916e-01   \n",
       "50%        2.419883e-01           1.557071e-01       -3.393937e-01   \n",
       "75%        2.419883e-01           1.557071e-01        7.649976e-01   \n",
       "max        2.589994e+00           2.483396e+00        3.802074e+00   \n",
       "\n",
       "       YearsSinceLastPromotion  YearsWithCurrManager   Gender_Male  \\\n",
       "count             1.470000e+03          1.470000e+03  1.470000e+03   \n",
       "mean              1.208406e-18         -2.779334e-17  4.350262e-17   \n",
       "std               1.000340e+00          1.000340e+00  1.000340e+00   \n",
       "min              -6.791457e-01         -1.155935e+00 -1.224745e+00   \n",
       "25%              -6.791457e-01         -5.952272e-01 -1.224745e+00   \n",
       "50%              -3.687153e-01         -3.148735e-01  8.164966e-01   \n",
       "75%               2.521455e-01          8.065415e-01  8.164966e-01   \n",
       "max               3.977310e+00          3.610079e+00  8.164966e-01   \n",
       "\n",
       "       OverTime_Yes  MaritalStatus_Married  MaritalStatus_Single  \\\n",
       "count  1.470000e+03           1.470000e+03          1.470000e+03   \n",
       "mean  -4.350262e-17           1.208406e-16         -4.471102e-17   \n",
       "std    1.000340e+00           1.000340e+00          1.000340e+00   \n",
       "min   -6.282411e-01          -9.189214e-01         -6.855655e-01   \n",
       "25%   -6.282411e-01          -9.189214e-01         -6.855655e-01   \n",
       "50%   -6.282411e-01          -9.189214e-01         -6.855655e-01   \n",
       "75%    1.591746e+00           1.088232e+00          1.458650e+00   \n",
       "max    1.591746e+00           1.088232e+00          1.458650e+00   \n",
       "\n",
       "       JobRole_Human Resources  JobRole_Laboratory Technician  \\\n",
       "count             1.470000e+03                   1.470000e+03   \n",
       "mean             -2.416812e-17                  -8.338001e-17   \n",
       "std               1.000340e+00                   1.000340e+00   \n",
       "min              -1.914977e-01                  -4.624639e-01   \n",
       "25%              -1.914977e-01                  -4.624639e-01   \n",
       "50%              -1.914977e-01                  -4.624639e-01   \n",
       "75%              -1.914977e-01                  -4.624639e-01   \n",
       "max               5.221995e+00                   2.162331e+00   \n",
       "\n",
       "       JobRole_Manager  JobRole_Manufacturing Director  \\\n",
       "count     1.470000e+03                    1.470000e+03   \n",
       "mean      4.350262e-17                   -4.350262e-17   \n",
       "std       1.000340e+00                    1.000340e+00   \n",
       "min      -2.730593e-01                   -3.308080e-01   \n",
       "25%      -2.730593e-01                   -3.308080e-01   \n",
       "50%      -2.730593e-01                   -3.308080e-01   \n",
       "75%      -2.730593e-01                   -3.308080e-01   \n",
       "max       3.662208e+00                    3.022901e+00   \n",
       "\n",
       "       JobRole_Research Director  JobRole_Research Scientist  \\\n",
       "count               1.470000e+03                1.470000e+03   \n",
       "mean                5.256566e-17               -4.471102e-17   \n",
       "std                 1.000340e+00                1.000340e+00   \n",
       "min                -2.399041e-01               -4.978732e-01   \n",
       "25%                -2.399041e-01               -4.978732e-01   \n",
       "50%                -2.399041e-01               -4.978732e-01   \n",
       "75%                -2.399041e-01               -4.978732e-01   \n",
       "max                 4.168333e+00                2.008543e+00   \n",
       "\n",
       "       JobRole_Sales Executive  JobRole_Sales Representative  \\\n",
       "count             1.470000e+03                  1.470000e+03   \n",
       "mean              1.208406e-18                  1.450087e-17   \n",
       "std               1.000340e+00                  1.000340e+00   \n",
       "min              -5.338212e-01                 -2.446250e-01   \n",
       "25%              -5.338212e-01                 -2.446250e-01   \n",
       "50%              -5.338212e-01                 -2.446250e-01   \n",
       "75%              -5.338212e-01                 -2.446250e-01   \n",
       "max               1.873287e+00                  4.087890e+00   \n",
       "\n",
       "       EducationField_Life Sciences  EducationField_Marketing  \\\n",
       "count                  1.470000e+03              1.470000e+03   \n",
       "mean                  -2.175131e-17             -4.229421e-17   \n",
       "std                    1.000340e+00              1.000340e+00   \n",
       "min                   -8.374896e-01             -3.482549e-01   \n",
       "25%                   -8.374896e-01             -3.482549e-01   \n",
       "50%                   -8.374896e-01             -3.482549e-01   \n",
       "75%                    1.194045e+00             -3.482549e-01   \n",
       "max                    1.194045e+00              2.871460e+00   \n",
       "\n",
       "       EducationField_Medical  EducationField_Other  \\\n",
       "count            1.470000e+03          1.470000e+03   \n",
       "mean             5.921189e-17          3.746059e-17   \n",
       "std              1.000340e+00          1.000340e+00   \n",
       "min             -6.791411e-01         -2.430593e-01   \n",
       "25%             -6.791411e-01         -2.430593e-01   \n",
       "50%             -6.791411e-01         -2.430593e-01   \n",
       "75%              1.472448e+00         -2.430593e-01   \n",
       "max              1.472448e+00          4.114223e+00   \n",
       "\n",
       "       EducationField_Technical Degree  Department_Research & Development  \\\n",
       "count                     1.470000e+03                       1.470000e+03   \n",
       "mean                      1.329247e-17                      -1.691768e-16   \n",
       "std                       1.000340e+00                       1.000340e+00   \n",
       "min                      -3.140935e-01                      -1.491202e+00   \n",
       "25%                      -3.140935e-01                      -1.491202e+00   \n",
       "50%                      -3.140935e-01                       6.705998e-01   \n",
       "75%                      -3.140935e-01                       6.705998e-01   \n",
       "max                       3.183766e+00                       6.705998e-01   \n",
       "\n",
       "       Department_Sales  \n",
       "count      1.470000e+03  \n",
       "mean      -5.437827e-18  \n",
       "std        1.000340e+00  \n",
       "min       -6.124679e-01  \n",
       "25%       -6.124679e-01  \n",
       "50%       -6.124679e-01  \n",
       "75%        1.632739e+00  \n",
       "max        1.632739e+00  "
      ]
     },
     "execution_count": 35,
     "metadata": {},
     "output_type": "execute_result"
    }
   ],
   "source": [
    "# Convert the scaled array back to a DataFrame\n",
    "x_scaled = pd.DataFrame(x_scaled, columns=df_encoded.drop(['Attrition_Yes'], axis=1).columns)\n",
    "\n",
    "# Now you can use .info() on the scaled DataFrame\n",
    "x_scaled.describe()"
   ]
  },
  {
   "cell_type": "markdown",
   "metadata": {},
   "source": [
    "#### Model Building"
   ]
  },
  {
   "cell_type": "code",
   "execution_count": 36,
   "metadata": {},
   "outputs": [],
   "source": [
    "y=df_encoded['Attrition_Yes']"
   ]
  },
  {
   "cell_type": "code",
   "execution_count": 39,
   "metadata": {},
   "outputs": [],
   "source": [
    "from sklearn.model_selection import train_test_split\n",
    "X_train , X_test , y_train , y_test = train_test_split(x_scaled , y , test_size=0.25 , random_state=42)"
   ]
  },
  {
   "cell_type": "code",
   "execution_count": 40,
   "metadata": {},
   "outputs": [
    {
     "name": "stdout",
     "output_type": "stream",
     "text": [
      "accuracy score:  0.875\n"
     ]
    }
   ],
   "source": [
    "from sklearn.ensemble import RandomForestClassifier\n",
    "from sklearn.metrics import confusion_matrix, accuracy_score\n",
    "RF_model = RandomForestClassifier(n_estimators=100)\n",
    "RF_model.fit(X_train , y_train)\n",
    "RF_model.score(X_train , y_train)\n",
    "RF_pred = RF_model.predict(X_test)\n",
    "print( 'accuracy score: ' ,accuracy_score(y_test , RF_pred))"
   ]
  },
  {
   "cell_type": "code",
   "execution_count": 41,
   "metadata": {},
   "outputs": [
    {
     "data": {
      "text/plain": [
       "Text(95.72222222222221, 0.5, 'Truh')"
      ]
     },
     "execution_count": 41,
     "metadata": {},
     "output_type": "execute_result"
    },
    {
     "data": {
      "image/png": "[encoded data removed]",
      "text/plain": [
       "<Figure size 1000x700 with 2 Axes>"
      ]
     },
     "metadata": {},
     "output_type": "display_data"
    }
   ],
   "source": [
    "cm1 = confusion_matrix(y_test,RF_pred)\n",
    "plt.figure(figsize=(10,7))\n",
    "sns.heatmap(cm1,annot=True)\n",
    "plt.xlabel('predicted')\n",
    "plt.ylabel('Truh')"
   ]
  }
 ],
 "metadata": {
  "kernelspec": {
   "display_name": "DataScienceMTC",
   "language": "python",
   "name": "python3"
  },
  "language_info": {
   "codemirror_mode": {
    "name": "ipython",
    "version": 3
   },
   "file_extension": ".py",
   "mimetype": "text/x-python",
   "name": "python",
   "nbconvert_exporter": "python",
   "pygments_lexer": "ipython3",
   "version": "3.9.19"
  }
 },
 "nbformat": 4,
 "nbformat_minor": 2
}
